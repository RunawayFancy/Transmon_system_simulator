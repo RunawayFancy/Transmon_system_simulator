{
 "cells": [
  {
   "cell_type": "markdown",
   "metadata": {},
   "source": [
    "# Measuring static ZZ coupling\n",
    "> @author: Jiheng Duan, Pan Shi\n",
    "\n",
    "## About\n",
    "\n",
    "This document will tell you how to scan, measure, and calculating the ZZ coupling strength.\n",
    "\n",
    "### Required Import\n",
    "\n",
    "**The following thing must be import.**\n",
    "\n",
    "In the current folder (despite `~\\Tutorial\\arb_qubit_tutorial\\`), the system structure are based on file `~\\System\\transmon_system.py`. For using arbitrary qubit system structure, please move to the demonstration file under `~\\Tutorial\\arb_qubit_tutorial\\`."
   ]
  },
  {
   "cell_type": "code",
   "execution_count": 1,
   "metadata": {},
   "outputs": [
    {
     "name": "stderr",
     "output_type": "stream",
     "text": [
      "e:\\conda\\envs\\qusim_qutip5\\lib\\site-packages\\qutip\\solver\\options.py:16: FutureWarning: Dedicated options class are no longer needed, options should be passed as dict to solvers.\n",
      "  warnings.warn(\n"
     ]
    }
   ],
   "source": [
    "import numpy as np\n",
    "import matplotlib.pyplot as plt\n",
    "import sys\n",
    "# # This on is a path correcting code, which is used to find the path of qusim.\n",
    "# sys.path.append('../..')\n",
    "\n",
    "import qusim.System.transmon_system as qs\n",
    "# Some useful tools\n",
    "import qusim.Instruments.tools as tools\n",
    "# Some intrinsic plotting function\n",
    "import qusim.DataPlot.plot_lib as pl"
   ]
  },
  {
   "cell_type": "markdown",
   "metadata": {},
   "source": [
    "### Optional import\n",
    "\n",
    "**The following import are optional**"
   ]
  },
  {
   "cell_type": "code",
   "execution_count": 2,
   "metadata": {},
   "outputs": [],
   "source": [
    "# Print the full output\n",
    "np.set_printoptions(threshold=sys.maxsize)\n",
    "\n",
    "# auto reload\n",
    "%load_ext autoreload\n",
    "%autoreload 2 \n",
    "\n",
    "# variable name -> string\n",
    "def var_name2str(variable):\n",
    "    def nested_var_name2str(value):\n",
    "        if isinstance(value, list):\n",
    "            return [nested_var_name2str(item) for item in value]\n",
    "        else:\n",
    "            for name in globals():\n",
    "                if eval(name) == value:\n",
    "                    return name\n",
    "            return str(value)\n",
    "    return nested_var_name2str(variable)"
   ]
  },
  {
   "cell_type": "markdown",
   "metadata": {},
   "source": [
    "## Mathematical formulism\n",
    "\n",
    "The static ZZ coupling between two subsystem that shifts the their energy levels. For instance, for two qubits, the energy relation $E_{11} + E_{00} = E_{01} + E_{10}$ should be valid. But due to the static ZZ interaction, the relation will not hold as the each qubit's frequency is slightly shifter due to the coupling term: $\\xi_{12}/2 \\sigma_{z,1} \\sigma_{z,2}$.\n",
    "\n",
    "The ZZ coupling strength is defined as\n",
    "$$\n",
    "\\xi = E_{11} + E_{00} - E_{10} - E_{01}\n",
    "$$\n",
    "\n",
    "In the Transmon-Coupler-Transmon case:\n",
    "$$\n",
    "\\xi = E_{101} + E_{000} - E_{100} - E_{001}\n",
    "$$\n",
    "\n",
    "### Define system parameters"
   ]
  },
  {
   "cell_type": "code",
   "execution_count": 3,
   "metadata": {},
   "outputs": [],
   "source": [
    "N = None # Maximum excitation level\n",
    "w = [7, 5, 6.6] # Qubit frequency\n",
    "q_dim = [4 for _ in range(len(w))]\n",
    "alpha =[-0.24, -0.14, -0.24] # Anharmonicity\n",
    "r_dic = {\n",
    "    \"r12\": 0.11,\n",
    "    \"r13\": -0.006,\n",
    "    \"r23\": 0.11\n",
    "}\n",
    "r = tools.r2matrix(r_dic, w) # Coupling strength\n",
    "gamma_list = None # Gamma up, Gamma down, Gamma z"
   ]
  },
  {
   "cell_type": "markdown",
   "metadata": {},
   "source": [
    "### Define the scanning parameters\n",
    "\n",
    "Here, we want to scan the coupler frequency to find a trade off between Transmon frequency, coupler frequency, and the ZZ coupling."
   ]
  },
  {
   "cell_type": "code",
   "execution_count": 4,
   "metadata": {},
   "outputs": [],
   "source": [
    "# Define scanning space\n",
    "w2_scan_space = np.linspace(5, 8, 41)\n",
    "w3_scan_space = np.linspace(6.6, 7.4, 11)"
   ]
  },
  {
   "cell_type": "markdown",
   "metadata": {},
   "source": [
    "Then, we write a double for loop, which scan the 2nd qubit first, and the inner loop is iterating the coupler frequency. Notice that we change the corresponding frequency by just defining the frequency list `w_scan` by `[w[0], w[1], w3]` and `[w[0], w2, w3]`, respective.\n",
    "\n",
    "Notice that we set up the qubit system twice, where we get the state index first, and use that index to find the state in the second loop."
   ]
  },
  {
   "cell_type": "code",
   "execution_count": 7,
   "metadata": {},
   "outputs": [],
   "source": [
    "# Scanning\n",
    "zz_list = []\n",
    "\n",
    "for w3 in w3_scan_space:\n",
    "    zz_dummy_list = []\n",
    "    w = [w[0], w[1], w3]\n",
    "    zz_system1 = qs.TransmonSys(N, q_dim, w, alpha, r, gamma_list)\n",
    "    # State represented in tuple, e.g., |100> ==> (1,0,0)\n",
    "    index_101 = zz_system1.get_state_index((1,0,1))\n",
    "    index_100 = zz_system1.get_state_index((1,0,0))\n",
    "    index_001 = zz_system1.get_state_index((0,0,1))\n",
    "    index_000 = zz_system1.get_state_index((0,0,0))\n",
    "    \n",
    "    for w2 in w2_scan_space:\n",
    "        w_scan = [w[0], w2, w3]\n",
    "        zz_system2 = qs.TransmonSys(N, q_dim, w_scan, alpha, r, gamma_list)\n",
    "        E_101 = zz_system2.H.eigenenergies()[index_101]/np.pi/2\n",
    "        E_100 = zz_system2.H.eigenenergies()[index_100]/np.pi/2\n",
    "        E_001 = zz_system2.H.eigenenergies()[index_001]/np.pi/2\n",
    "        E_000 = zz_system2.H.eigenenergies()[index_000]/np.pi/2\n",
    "        \n",
    "        zz_dummy_list.append((- E_101 + E_100 + E_001 - E_000).real)\n",
    "    zz_list.append(zz_dummy_list)"
   ]
  },
  {
   "cell_type": "markdown",
   "metadata": {},
   "source": [
    "### Plot ZZ\n",
    "\n",
    "Notice that the unit in frequency is GHz"
   ]
  },
  {
   "cell_type": "code",
   "execution_count": 9,
   "metadata": {},
   "outputs": [
    {
     "data": {
      "image/png": "[encoded data removed]",
      "text/plain": [
       "<Figure size 640x480 with 2 Axes>"
      ]
     },
     "metadata": {},
     "output_type": "display_data"
    }
   ],
   "source": [
    "x_list, y_list = np.meshgrid(w2_scan_space, w3_scan_space)\n",
    "zz_list=np.abs(zz_list)\n",
    "\n",
    "%matplotlib inline\n",
    "pl.plot_zz_sweep(x_list, y_list, zz_list, \"\\omega_c\", \"\\omega_{q2}\")"
   ]
  }
 ],
 "metadata": {
  "kernelspec": {
   "display_name": "qusim_qutip5",
   "language": "python",
   "name": "python3"
  },
  "language_info": {
   "codemirror_mode": {
    "name": "ipython",
    "version": 3
   },
   "file_extension": ".py",
   "mimetype": "text/x-python",
   "name": "python",
   "nbconvert_exporter": "python",
   "pygments_lexer": "ipython3",
   "version": "3.10.16"
  }
 },
 "nbformat": 4,
 "nbformat_minor": 2
}
